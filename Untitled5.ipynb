{
  "nbformat": 4,
  "nbformat_minor": 0,
  "metadata": {
    "colab": {
      "provenance": [],
      "authorship_tag": "ABX9TyO9fZX/0L4Znnead43LePdL",
      "include_colab_link": true
    },
    "kernelspec": {
      "name": "python3",
      "display_name": "Python 3"
    },
    "language_info": {
      "name": "python"
    }
  },
  "cells": [
    {
      "cell_type": "markdown",
      "metadata": {
        "id": "view-in-github",
        "colab_type": "text"
      },
      "source": [
        "<a href=\"https://colab.research.google.com/github/AponRiaz/AI-Task-/blob/main/Untitled5.ipynb\" target=\"_parent\"><img src=\"https://colab.research.google.com/assets/colab-badge.svg\" alt=\"Open In Colab\"/></a>"
      ]
    },
    {
      "cell_type": "code",
      "execution_count": null,
      "metadata": {
        "id": "mzdgZrO3oGgW"
      },
      "outputs": [],
      "source": [
        "graph = {\n",
        "        'A' : [('Z',75),('T',118),('S',140)],\n",
        "        'S' : [('R',80),('F',99)],\n",
        "        'F' : [('B',211)],\n",
        "        'Z' : [('O',71)]\n",
        "}\n",
        "\n",
        "H_table = {\n",
        "        'A' : 366,\n",
        "        'S' : 253,\n",
        "        'T' : 329,\n",
        "        'Z' : 374,\n",
        "        'R' : 193,\n",
        "        'O' : 380,\n",
        "        'F' : 176,\n",
        "        'B' : 0\n",
        "\n",
        "}"
      ]
    },
    {
      "cell_type": "code",
      "source": [
        "def path_h_cost(path):\n",
        "    g_cost = 0\n",
        "    for (node,cost)in path:\n",
        "        g_cost += cost\n",
        "    last_node = path[-1][0]\n",
        "    h_cost =H_table[last_node]\n",
        "    return h_cost,last_node\n",
        "\n",
        "def Greedy_best_search(graph,start,goal):\n",
        "  visited =[]\n",
        "  queue =[[(start,0)]]\n",
        "  while queue:\n",
        "    queue.sort(key=path_h_cost)\n",
        "    path= queue.pop(0)\n",
        "    node = path[-1][0]\n",
        "    if node in visited:\n",
        "      continue\n",
        "    visited.append(node)\n",
        "    if node==goal:\n",
        "      return path\n",
        "    else:\n",
        "      adjacent_nodes =graph.get(node, [])\n",
        "      for(node2,cost)in adjacent_nodes:\n",
        "         new_path =path.copy()\n",
        "         new_path.append((node2,cost))\n",
        "         queue.append (new_path)"
      ],
      "metadata": {
        "id": "LkauDlEDogxc"
      },
      "execution_count": null,
      "outputs": []
    },
    {
      "cell_type": "code",
      "source": [
        "solution = Greedy_best_search(graph,'A','B')\n",
        "print('Solution is',solution)\n",
        "print('Cost of Solution is',path_h_cost(solution)[0])"
      ],
      "metadata": {
        "colab": {
          "base_uri": "https://localhost:8080/"
        },
        "id": "jhSchJHmonQJ",
        "outputId": "6b0201fd-3057-4ca5-d6ed-d7d0c9006660"
      },
      "execution_count": null,
      "outputs": [
        {
          "output_type": "stream",
          "name": "stdout",
          "text": [
            "Solution is [('A', 0), ('S', 140), ('F', 99), ('B', 211)]\n",
            "Cost of Solution is 0\n"
          ]
        }
      ]
    }
  ]
}